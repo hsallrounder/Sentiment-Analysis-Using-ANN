{
 "cells": [
  {
   "cell_type": "code",
   "execution_count": 1,
   "metadata": {
    "id": "sm5svBiDAbnT"
   },
   "outputs": [],
   "source": [
    "import numpy as np\n",
    "from keras.datasets import imdb\n",
    "from tensorflow.keras.preprocessing.sequence import pad_sequences\n",
    "from keras.models import Sequential\n",
    "from keras.layers import Dense, Dropout, Embedding, LSTM, Bidirectional"
   ]
  },
  {
   "cell_type": "code",
   "execution_count": 2,
   "metadata": {
    "id": "0NaUEH6VJKY9"
   },
   "outputs": [],
   "source": [
    "max_features = 20000\n",
    "maxlen = 100\n",
    "batch_size = 32\n",
    "embedding_size = 128\n",
    "lstm_size = 64\n",
    "epochs = 5"
   ]
  },
  {
   "cell_type": "code",
   "execution_count": 3,
   "metadata": {
    "colab": {
     "base_uri": "https://localhost:8080/"
    },
    "id": "qH4IuREHGJQH",
    "outputId": "661fa069-e70d-443e-bb9c-35d594e85fc6"
   },
   "outputs": [
    {
     "name": "stdout",
     "output_type": "stream",
     "text": [
      "Downloading data from https://storage.googleapis.com/tensorflow/tf-keras-datasets/imdb.npz\n",
      "17464789/17464789 [==============================] - 4s 0us/step\n"
     ]
    }
   ],
   "source": [
    "(X_train, y_train), (X_test, y_test) = imdb.load_data(num_words=max_features)"
   ]
  },
  {
   "cell_type": "code",
   "execution_count": 4,
   "metadata": {
    "id": "zbRzV5zjHUIt"
   },
   "outputs": [],
   "source": [
    "X_train = pad_sequences(X_train, maxlen=maxlen, padding='post', truncating='post')\n",
    "X_test = pad_sequences(X_test, maxlen=maxlen, padding='post', truncating='post')"
   ]
  },
  {
   "cell_type": "code",
   "execution_count": 5,
   "metadata": {
    "id": "jkcV7gvALq07"
   },
   "outputs": [],
   "source": [
    "model = Sequential()\n",
    "model.add(Embedding(max_features, embedding_size, input_length=maxlen))\n",
    "model.add(Bidirectional(LSTM(lstm_size, dropout=0.2, recurrent_dropout=0.2)))\n",
    "model.add(Dense(1, activation='sigmoid'))"
   ]
  },
  {
   "cell_type": "code",
   "execution_count": 6,
   "metadata": {
    "id": "L_jOfSIsONJJ"
   },
   "outputs": [],
   "source": [
    "model.compile(loss='binary_crossentropy', optimizer='adam', metrics=['accuracy'])"
   ]
  },
  {
   "cell_type": "code",
   "execution_count": 7,
   "metadata": {
    "colab": {
     "base_uri": "https://localhost:8080/"
    },
    "id": "BXyOGUVWGNDx",
    "outputId": "01ab06a0-31e8-470f-e834-4c615e1654e6"
   },
   "outputs": [
    {
     "name": "stdout",
     "output_type": "stream",
     "text": [
      "Epoch 1/5\n",
      "782/782 [==============================] - 175s 218ms/step - loss: 0.4803 - accuracy: 0.7607 - val_loss: 0.4218 - val_accuracy: 0.8076\n",
      "Epoch 2/5\n",
      "782/782 [==============================] - 169s 216ms/step - loss: 0.2821 - accuracy: 0.8874 - val_loss: 0.4442 - val_accuracy: 0.8003\n",
      "Epoch 3/5\n",
      "782/782 [==============================] - 172s 220ms/step - loss: 0.1863 - accuracy: 0.9300 - val_loss: 0.4901 - val_accuracy: 0.7977\n",
      "Epoch 4/5\n",
      "782/782 [==============================] - 181s 232ms/step - loss: 0.1184 - accuracy: 0.9585 - val_loss: 0.6535 - val_accuracy: 0.7991\n",
      "Epoch 5/5\n",
      "782/782 [==============================] - 204s 261ms/step - loss: 0.0744 - accuracy: 0.9738 - val_loss: 0.7692 - val_accuracy: 0.7843\n"
     ]
    },
    {
     "data": {
      "text/plain": [
       "<keras.callbacks.History at 0x22e1daac670>"
      ]
     },
     "execution_count": 7,
     "metadata": {},
     "output_type": "execute_result"
    }
   ],
   "source": [
    "model.fit(X_train, y_train, batch_size=batch_size, epochs=epochs, validation_data=(X_test, y_test))"
   ]
  },
  {
   "cell_type": "code",
   "execution_count": 8,
   "metadata": {
    "id": "UAp_QcHSGPie"
   },
   "outputs": [
    {
     "name": "stdout",
     "output_type": "stream",
     "text": [
      "Test Accuracy: 78.43%\n"
     ]
    }
   ],
   "source": [
    "scores = model.evaluate(X_test, y_test, verbose=0)\n",
    "print(\"Test Accuracy: %.2f%%\" % (scores[1]*100))"
   ]
  },
  {
   "cell_type": "code",
   "execution_count": 9,
   "metadata": {
    "id": "9WKnZZVqOrPn"
   },
   "outputs": [],
   "source": [
    "import re\n",
    "def clean_text(text):\n",
    "    text = re.sub('[^a-zA-Z]+', ' ', text)\n",
    "    text = re.sub(r'\\s+[a-zA-Z]\\s+', ' ', text)\n",
    "    text = re.sub(r'\\s+', ' ', text)\n",
    "    text = text.lower()\n",
    "    return text"
   ]
  },
  {
   "cell_type": "code",
   "execution_count": 10,
   "metadata": {
    "id": "nfFw4gN-ObML"
   },
   "outputs": [],
   "source": [
    "def predict_sentiment(model, tokenizer, text):\n",
    "    text = clean_text(text)\n",
    "    text = [text]\n",
    "    text = tokenizer.texts_to_sequences(text)\n",
    "    text = pad_sequences(text, maxlen=maxlen, padding='post', truncating='post')\n",
    "    \n",
    "    sentiment = model.predict(text)\n",
    "    sentiment = np.argmax(sentiment, axis=-1)\n",
    "    \n",
    "    return 'Positive' if sentiment == 1 else 'Negative'"
   ]
  },
  {
   "cell_type": "code",
   "execution_count": 11,
   "metadata": {
    "id": "9d7zoYy6PIGo"
   },
   "outputs": [],
   "source": [
    "from keras.preprocessing.text import Tokenizer\n",
    "tokenizer=Tokenizer()"
   ]
  },
  {
   "cell_type": "code",
   "execution_count": 14,
   "metadata": {
    "id": "4eLvs-FYPBRz"
   },
   "outputs": [
    {
     "name": "stdout",
     "output_type": "stream",
     "text": [
      "1/1 [==============================] - 0s 26ms/step\n",
      "Negative\n"
     ]
    }
   ],
   "source": [
    "text = \"I hate the movie. It was not great!\"\n",
    "sentiment = predict_sentiment(model, tokenizer, text)\n",
    "print(sentiment) # output: Negative"
   ]
  },
  {
   "cell_type": "code",
   "execution_count": 13,
   "metadata": {
    "id": "4HbNe7fePrSd"
   },
   "outputs": [
    {
     "name": "stdout",
     "output_type": "stream",
     "text": [
      "1/1 [==============================] - 0s 29ms/step\n",
      "Negative\n"
     ]
    }
   ],
   "source": [
    "text = \"It was bad experience.\"\n",
    "sentiment = predict_sentiment(model, tokenizer, text)\n",
    "print(sentiment) # output: Negative"
   ]
  },
  {
   "cell_type": "code",
   "execution_count": null,
   "metadata": {},
   "outputs": [],
   "source": []
  }
 ],
 "metadata": {
  "colab": {
   "provenance": []
  },
  "kernelspec": {
   "display_name": "Python 3",
   "language": "python",
   "name": "python3"
  },
  "language_info": {
   "codemirror_mode": {
    "name": "ipython",
    "version": 3
   },
   "file_extension": ".py",
   "mimetype": "text/x-python",
   "name": "python",
   "nbconvert_exporter": "python",
   "pygments_lexer": "ipython3",
   "version": "3.8.8"
  }
 },
 "nbformat": 4,
 "nbformat_minor": 1
}
